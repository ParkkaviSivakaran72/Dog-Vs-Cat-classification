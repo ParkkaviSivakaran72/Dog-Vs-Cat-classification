{
  "nbformat": 4,
  "nbformat_minor": 0,
  "metadata": {
    "colab": {
      "provenance": [],
      "gpuType": "T4",
      "authorship_tag": "ABX9TyPyxCFdpN12qsX6/aRSLWJK",
      "include_colab_link": true
    },
    "kernelspec": {
      "name": "python3",
      "display_name": "Python 3"
    },
    "language_info": {
      "name": "python"
    },
    "accelerator": "GPU"
  },
  "cells": [
    {
      "cell_type": "markdown",
      "metadata": {
        "id": "view-in-github",
        "colab_type": "text"
      },
      "source": [
        "<a href=\"https://colab.research.google.com/github/ParkkaviSivakaran72/Dog-Vs-Cat-classification/blob/main/Lung_Cancer_Patient_Survival_Prediction.ipynb\" target=\"_parent\"><img src=\"https://colab.research.google.com/assets/colab-badge.svg\" alt=\"Open In Colab\"/></a>"
      ]
    },
    {
      "cell_type": "code",
      "execution_count": 54,
      "metadata": {
        "colab": {
          "base_uri": "https://localhost:8080/"
        },
        "id": "gzlc57nlmWfB",
        "outputId": "971dd4e3-21cf-49c6-b299-0abb727787e1"
      },
      "outputs": [
        {
          "output_type": "stream",
          "name": "stdout",
          "text": [
            "Requirement already satisfied: kaggle in /usr/local/lib/python3.11/dist-packages (1.7.4.5)\n",
            "Requirement already satisfied: bleach in /usr/local/lib/python3.11/dist-packages (from kaggle) (6.2.0)\n",
            "Requirement already satisfied: certifi>=14.05.14 in /usr/local/lib/python3.11/dist-packages (from kaggle) (2025.6.15)\n",
            "Requirement already satisfied: charset-normalizer in /usr/local/lib/python3.11/dist-packages (from kaggle) (3.4.2)\n",
            "Requirement already satisfied: idna in /usr/local/lib/python3.11/dist-packages (from kaggle) (3.10)\n",
            "Requirement already satisfied: protobuf in /usr/local/lib/python3.11/dist-packages (from kaggle) (5.29.5)\n",
            "Requirement already satisfied: python-dateutil>=2.5.3 in /usr/local/lib/python3.11/dist-packages (from kaggle) (2.9.0.post0)\n",
            "Requirement already satisfied: python-slugify in /usr/local/lib/python3.11/dist-packages (from kaggle) (8.0.4)\n",
            "Requirement already satisfied: requests in /usr/local/lib/python3.11/dist-packages (from kaggle) (2.32.3)\n",
            "Requirement already satisfied: setuptools>=21.0.0 in /usr/local/lib/python3.11/dist-packages (from kaggle) (75.2.0)\n",
            "Requirement already satisfied: six>=1.10 in /usr/local/lib/python3.11/dist-packages (from kaggle) (1.17.0)\n",
            "Requirement already satisfied: text-unidecode in /usr/local/lib/python3.11/dist-packages (from kaggle) (1.3)\n",
            "Requirement already satisfied: tqdm in /usr/local/lib/python3.11/dist-packages (from kaggle) (4.67.1)\n",
            "Requirement already satisfied: urllib3>=1.15.1 in /usr/local/lib/python3.11/dist-packages (from kaggle) (2.4.0)\n",
            "Requirement already satisfied: webencodings in /usr/local/lib/python3.11/dist-packages (from kaggle) (0.5.1)\n"
          ]
        }
      ],
      "source": [
        "#installing the kaggle library\n",
        "!pip install kaggle"
      ]
    },
    {
      "cell_type": "code",
      "source": [
        "#configuring the path kaggle.json file\n",
        "!mkdir -p ~/.kaggle\n",
        "!cp kaggle.json ~/.kaggle/\n",
        "!chmod 600 ~/.kaggle/kaggle.json"
      ],
      "metadata": {
        "id": "vmhFHJ8nuMmT"
      },
      "execution_count": 55,
      "outputs": []
    },
    {
      "cell_type": "code",
      "source": [
        "!kaggle competitions download -c idealize-2025-datathon-competition"
      ],
      "metadata": {
        "colab": {
          "base_uri": "https://localhost:8080/"
        },
        "id": "8iFjd8EquZWE",
        "outputId": "932d602c-2f88-4cbf-f9d4-57fe6b0614ae"
      },
      "execution_count": 56,
      "outputs": [
        {
          "output_type": "stream",
          "name": "stdout",
          "text": [
            "idealize-2025-datathon-competition.zip: Skipping, found more recently modified local copy (use --force to force download)\n"
          ]
        }
      ]
    },
    {
      "cell_type": "code",
      "source": [
        "from zipfile import ZipFile\n",
        "\n",
        "dataset = '/content/idealize-2025-datathon-competition.zip'\n",
        "\n",
        "with ZipFile(dataset,'r') as zip:\n",
        "  zip.extractall();\n",
        "  print('Successfully extracting the dataset zip file')\n"
      ],
      "metadata": {
        "colab": {
          "base_uri": "https://localhost:8080/"
        },
        "id": "ADEtG9__uknS",
        "outputId": "f4d8d0dc-9b5d-42a0-f876-57e8f66b8452"
      },
      "execution_count": 57,
      "outputs": [
        {
          "output_type": "stream",
          "name": "stdout",
          "text": [
            "Successfully extracting the dataset zip file\n"
          ]
        }
      ]
    },
    {
      "cell_type": "code",
      "source": [
        "import numpy as np\n",
        "import pandas as pd\n",
        "from sklearn.model_selection import train_test_split\n",
        "from sklearn.linear_model import LogisticRegression\n",
        "from sklearn.metrics import accuracy_score\n"
      ],
      "metadata": {
        "id": "HdJuR3FbuuHp"
      },
      "execution_count": 58,
      "outputs": []
    },
    {
      "cell_type": "code",
      "source": [
        "cancer_data = pd.read_csv('/content/train.csv')"
      ],
      "metadata": {
        "id": "7FdJpRfyvgtM"
      },
      "execution_count": 59,
      "outputs": []
    },
    {
      "cell_type": "code",
      "source": [
        "cancer_data.head()"
      ],
      "metadata": {
        "colab": {
          "base_uri": "https://localhost:8080/",
          "height": 255
        },
        "id": "gi62D0fEvpuV",
        "outputId": "50f72078-0acc-4b73-d8a5-688e2a871b12"
      },
      "execution_count": 60,
      "outputs": [
        {
          "output_type": "execute_result",
          "data": {
            "text/plain": [
              "   record_id first_name last_name     sex  patient_age residence_state  \\\n",
              "0          1    Kathryn      Pope    Male           51   New Hampshire   \n",
              "1          2    Kristin   Nichols    Male           52         Florida   \n",
              "2          3      Oscar  Castillo  Female           62      Washington   \n",
              "3          4   Danielle     Duran  Female           46         Alabama   \n",
              "4          5      Shawn      Reed    Male           65         Montana   \n",
              "\n",
              "   height_cm  weight_kg  smoking_status  cigarettes_per_day  ...  \\\n",
              "0        170         48  Passive Smoker                 NaN  ...   \n",
              "1        173         59    Never Smoked                 NaN  ...   \n",
              "2        163         84  Current Smoker                 5.0  ...   \n",
              "3        147         90    Never Smoked                 NaN  ...   \n",
              "4        173         64  Current Smoker                 1.0  ...   \n",
              "\n",
              "   has_other_cancer asthma_diagnosis liver_condition blood_pressure_status  \\\n",
              "0                No              Yes   Has Cirrhosis   High Blood Pressure   \n",
              "1                No               No          Normal   High Blood Pressure   \n",
              "2               Yes               No          Normal   High Blood Pressure   \n",
              "3                No               No          Normal                Normal   \n",
              "4                No              Yes   Has Cirrhosis                Normal   \n",
              "\n",
              "  diagnosis_date cancer_stage treatment_start_date  treatment_type  \\\n",
              "0     2022-10-14            4           2022-10-18       Radiation   \n",
              "1     2018-03-08            4           2018-03-10        Combined   \n",
              "2     2016-03-01            4           2016-03-05    Chemotherapy   \n",
              "3     2019-04-18            2           2019-04-24         Surgery   \n",
              "4     2020-05-16            4           2020-05-23         Surgery   \n",
              "\n",
              "  treatment_end_date survival_status  \n",
              "0         2023-09-06               0  \n",
              "1         2019-04-07               0  \n",
              "2         2017-06-10               0  \n",
              "3         2020-08-11               1  \n",
              "4         2021-04-24               0  \n",
              "\n",
              "[5 rows x 22 columns]"
            ],
            "text/html": [
              "\n",
              "  <div id=\"df-77f3b1fb-3c95-4b9c-823c-81a4257b8009\" class=\"colab-df-container\">\n",
              "    <div>\n",
              "<style scoped>\n",
              "    .dataframe tbody tr th:only-of-type {\n",
              "        vertical-align: middle;\n",
              "    }\n",
              "\n",
              "    .dataframe tbody tr th {\n",
              "        vertical-align: top;\n",
              "    }\n",
              "\n",
              "    .dataframe thead th {\n",
              "        text-align: right;\n",
              "    }\n",
              "</style>\n",
              "<table border=\"1\" class=\"dataframe\">\n",
              "  <thead>\n",
              "    <tr style=\"text-align: right;\">\n",
              "      <th></th>\n",
              "      <th>record_id</th>\n",
              "      <th>first_name</th>\n",
              "      <th>last_name</th>\n",
              "      <th>sex</th>\n",
              "      <th>patient_age</th>\n",
              "      <th>residence_state</th>\n",
              "      <th>height_cm</th>\n",
              "      <th>weight_kg</th>\n",
              "      <th>smoking_status</th>\n",
              "      <th>cigarettes_per_day</th>\n",
              "      <th>...</th>\n",
              "      <th>has_other_cancer</th>\n",
              "      <th>asthma_diagnosis</th>\n",
              "      <th>liver_condition</th>\n",
              "      <th>blood_pressure_status</th>\n",
              "      <th>diagnosis_date</th>\n",
              "      <th>cancer_stage</th>\n",
              "      <th>treatment_start_date</th>\n",
              "      <th>treatment_type</th>\n",
              "      <th>treatment_end_date</th>\n",
              "      <th>survival_status</th>\n",
              "    </tr>\n",
              "  </thead>\n",
              "  <tbody>\n",
              "    <tr>\n",
              "      <th>0</th>\n",
              "      <td>1</td>\n",
              "      <td>Kathryn</td>\n",
              "      <td>Pope</td>\n",
              "      <td>Male</td>\n",
              "      <td>51</td>\n",
              "      <td>New Hampshire</td>\n",
              "      <td>170</td>\n",
              "      <td>48</td>\n",
              "      <td>Passive Smoker</td>\n",
              "      <td>NaN</td>\n",
              "      <td>...</td>\n",
              "      <td>No</td>\n",
              "      <td>Yes</td>\n",
              "      <td>Has Cirrhosis</td>\n",
              "      <td>High Blood Pressure</td>\n",
              "      <td>2022-10-14</td>\n",
              "      <td>4</td>\n",
              "      <td>2022-10-18</td>\n",
              "      <td>Radiation</td>\n",
              "      <td>2023-09-06</td>\n",
              "      <td>0</td>\n",
              "    </tr>\n",
              "    <tr>\n",
              "      <th>1</th>\n",
              "      <td>2</td>\n",
              "      <td>Kristin</td>\n",
              "      <td>Nichols</td>\n",
              "      <td>Male</td>\n",
              "      <td>52</td>\n",
              "      <td>Florida</td>\n",
              "      <td>173</td>\n",
              "      <td>59</td>\n",
              "      <td>Never Smoked</td>\n",
              "      <td>NaN</td>\n",
              "      <td>...</td>\n",
              "      <td>No</td>\n",
              "      <td>No</td>\n",
              "      <td>Normal</td>\n",
              "      <td>High Blood Pressure</td>\n",
              "      <td>2018-03-08</td>\n",
              "      <td>4</td>\n",
              "      <td>2018-03-10</td>\n",
              "      <td>Combined</td>\n",
              "      <td>2019-04-07</td>\n",
              "      <td>0</td>\n",
              "    </tr>\n",
              "    <tr>\n",
              "      <th>2</th>\n",
              "      <td>3</td>\n",
              "      <td>Oscar</td>\n",
              "      <td>Castillo</td>\n",
              "      <td>Female</td>\n",
              "      <td>62</td>\n",
              "      <td>Washington</td>\n",
              "      <td>163</td>\n",
              "      <td>84</td>\n",
              "      <td>Current Smoker</td>\n",
              "      <td>5.0</td>\n",
              "      <td>...</td>\n",
              "      <td>Yes</td>\n",
              "      <td>No</td>\n",
              "      <td>Normal</td>\n",
              "      <td>High Blood Pressure</td>\n",
              "      <td>2016-03-01</td>\n",
              "      <td>4</td>\n",
              "      <td>2016-03-05</td>\n",
              "      <td>Chemotherapy</td>\n",
              "      <td>2017-06-10</td>\n",
              "      <td>0</td>\n",
              "    </tr>\n",
              "    <tr>\n",
              "      <th>3</th>\n",
              "      <td>4</td>\n",
              "      <td>Danielle</td>\n",
              "      <td>Duran</td>\n",
              "      <td>Female</td>\n",
              "      <td>46</td>\n",
              "      <td>Alabama</td>\n",
              "      <td>147</td>\n",
              "      <td>90</td>\n",
              "      <td>Never Smoked</td>\n",
              "      <td>NaN</td>\n",
              "      <td>...</td>\n",
              "      <td>No</td>\n",
              "      <td>No</td>\n",
              "      <td>Normal</td>\n",
              "      <td>Normal</td>\n",
              "      <td>2019-04-18</td>\n",
              "      <td>2</td>\n",
              "      <td>2019-04-24</td>\n",
              "      <td>Surgery</td>\n",
              "      <td>2020-08-11</td>\n",
              "      <td>1</td>\n",
              "    </tr>\n",
              "    <tr>\n",
              "      <th>4</th>\n",
              "      <td>5</td>\n",
              "      <td>Shawn</td>\n",
              "      <td>Reed</td>\n",
              "      <td>Male</td>\n",
              "      <td>65</td>\n",
              "      <td>Montana</td>\n",
              "      <td>173</td>\n",
              "      <td>64</td>\n",
              "      <td>Current Smoker</td>\n",
              "      <td>1.0</td>\n",
              "      <td>...</td>\n",
              "      <td>No</td>\n",
              "      <td>Yes</td>\n",
              "      <td>Has Cirrhosis</td>\n",
              "      <td>Normal</td>\n",
              "      <td>2020-05-16</td>\n",
              "      <td>4</td>\n",
              "      <td>2020-05-23</td>\n",
              "      <td>Surgery</td>\n",
              "      <td>2021-04-24</td>\n",
              "      <td>0</td>\n",
              "    </tr>\n",
              "  </tbody>\n",
              "</table>\n",
              "<p>5 rows × 22 columns</p>\n",
              "</div>\n",
              "    <div class=\"colab-df-buttons\">\n",
              "\n",
              "  <div class=\"colab-df-container\">\n",
              "    <button class=\"colab-df-convert\" onclick=\"convertToInteractive('df-77f3b1fb-3c95-4b9c-823c-81a4257b8009')\"\n",
              "            title=\"Convert this dataframe to an interactive table.\"\n",
              "            style=\"display:none;\">\n",
              "\n",
              "  <svg xmlns=\"http://www.w3.org/2000/svg\" height=\"24px\" viewBox=\"0 -960 960 960\">\n",
              "    <path d=\"M120-120v-720h720v720H120Zm60-500h600v-160H180v160Zm220 220h160v-160H400v160Zm0 220h160v-160H400v160ZM180-400h160v-160H180v160Zm440 0h160v-160H620v160ZM180-180h160v-160H180v160Zm440 0h160v-160H620v160Z\"/>\n",
              "  </svg>\n",
              "    </button>\n",
              "\n",
              "  <style>\n",
              "    .colab-df-container {\n",
              "      display:flex;\n",
              "      gap: 12px;\n",
              "    }\n",
              "\n",
              "    .colab-df-convert {\n",
              "      background-color: #E8F0FE;\n",
              "      border: none;\n",
              "      border-radius: 50%;\n",
              "      cursor: pointer;\n",
              "      display: none;\n",
              "      fill: #1967D2;\n",
              "      height: 32px;\n",
              "      padding: 0 0 0 0;\n",
              "      width: 32px;\n",
              "    }\n",
              "\n",
              "    .colab-df-convert:hover {\n",
              "      background-color: #E2EBFA;\n",
              "      box-shadow: 0px 1px 2px rgba(60, 64, 67, 0.3), 0px 1px 3px 1px rgba(60, 64, 67, 0.15);\n",
              "      fill: #174EA6;\n",
              "    }\n",
              "\n",
              "    .colab-df-buttons div {\n",
              "      margin-bottom: 4px;\n",
              "    }\n",
              "\n",
              "    [theme=dark] .colab-df-convert {\n",
              "      background-color: #3B4455;\n",
              "      fill: #D2E3FC;\n",
              "    }\n",
              "\n",
              "    [theme=dark] .colab-df-convert:hover {\n",
              "      background-color: #434B5C;\n",
              "      box-shadow: 0px 1px 3px 1px rgba(0, 0, 0, 0.15);\n",
              "      filter: drop-shadow(0px 1px 2px rgba(0, 0, 0, 0.3));\n",
              "      fill: #FFFFFF;\n",
              "    }\n",
              "  </style>\n",
              "\n",
              "    <script>\n",
              "      const buttonEl =\n",
              "        document.querySelector('#df-77f3b1fb-3c95-4b9c-823c-81a4257b8009 button.colab-df-convert');\n",
              "      buttonEl.style.display =\n",
              "        google.colab.kernel.accessAllowed ? 'block' : 'none';\n",
              "\n",
              "      async function convertToInteractive(key) {\n",
              "        const element = document.querySelector('#df-77f3b1fb-3c95-4b9c-823c-81a4257b8009');\n",
              "        const dataTable =\n",
              "          await google.colab.kernel.invokeFunction('convertToInteractive',\n",
              "                                                    [key], {});\n",
              "        if (!dataTable) return;\n",
              "\n",
              "        const docLinkHtml = 'Like what you see? Visit the ' +\n",
              "          '<a target=\"_blank\" href=https://colab.research.google.com/notebooks/data_table.ipynb>data table notebook</a>'\n",
              "          + ' to learn more about interactive tables.';\n",
              "        element.innerHTML = '';\n",
              "        dataTable['output_type'] = 'display_data';\n",
              "        await google.colab.output.renderOutput(dataTable, element);\n",
              "        const docLink = document.createElement('div');\n",
              "        docLink.innerHTML = docLinkHtml;\n",
              "        element.appendChild(docLink);\n",
              "      }\n",
              "    </script>\n",
              "  </div>\n",
              "\n",
              "\n",
              "    <div id=\"df-7df90feb-2362-44f4-8648-90ec1e4b0743\">\n",
              "      <button class=\"colab-df-quickchart\" onclick=\"quickchart('df-7df90feb-2362-44f4-8648-90ec1e4b0743')\"\n",
              "                title=\"Suggest charts\"\n",
              "                style=\"display:none;\">\n",
              "\n",
              "<svg xmlns=\"http://www.w3.org/2000/svg\" height=\"24px\"viewBox=\"0 0 24 24\"\n",
              "     width=\"24px\">\n",
              "    <g>\n",
              "        <path d=\"M19 3H5c-1.1 0-2 .9-2 2v14c0 1.1.9 2 2 2h14c1.1 0 2-.9 2-2V5c0-1.1-.9-2-2-2zM9 17H7v-7h2v7zm4 0h-2V7h2v10zm4 0h-2v-4h2v4z\"/>\n",
              "    </g>\n",
              "</svg>\n",
              "      </button>\n",
              "\n",
              "<style>\n",
              "  .colab-df-quickchart {\n",
              "      --bg-color: #E8F0FE;\n",
              "      --fill-color: #1967D2;\n",
              "      --hover-bg-color: #E2EBFA;\n",
              "      --hover-fill-color: #174EA6;\n",
              "      --disabled-fill-color: #AAA;\n",
              "      --disabled-bg-color: #DDD;\n",
              "  }\n",
              "\n",
              "  [theme=dark] .colab-df-quickchart {\n",
              "      --bg-color: #3B4455;\n",
              "      --fill-color: #D2E3FC;\n",
              "      --hover-bg-color: #434B5C;\n",
              "      --hover-fill-color: #FFFFFF;\n",
              "      --disabled-bg-color: #3B4455;\n",
              "      --disabled-fill-color: #666;\n",
              "  }\n",
              "\n",
              "  .colab-df-quickchart {\n",
              "    background-color: var(--bg-color);\n",
              "    border: none;\n",
              "    border-radius: 50%;\n",
              "    cursor: pointer;\n",
              "    display: none;\n",
              "    fill: var(--fill-color);\n",
              "    height: 32px;\n",
              "    padding: 0;\n",
              "    width: 32px;\n",
              "  }\n",
              "\n",
              "  .colab-df-quickchart:hover {\n",
              "    background-color: var(--hover-bg-color);\n",
              "    box-shadow: 0 1px 2px rgba(60, 64, 67, 0.3), 0 1px 3px 1px rgba(60, 64, 67, 0.15);\n",
              "    fill: var(--button-hover-fill-color);\n",
              "  }\n",
              "\n",
              "  .colab-df-quickchart-complete:disabled,\n",
              "  .colab-df-quickchart-complete:disabled:hover {\n",
              "    background-color: var(--disabled-bg-color);\n",
              "    fill: var(--disabled-fill-color);\n",
              "    box-shadow: none;\n",
              "  }\n",
              "\n",
              "  .colab-df-spinner {\n",
              "    border: 2px solid var(--fill-color);\n",
              "    border-color: transparent;\n",
              "    border-bottom-color: var(--fill-color);\n",
              "    animation:\n",
              "      spin 1s steps(1) infinite;\n",
              "  }\n",
              "\n",
              "  @keyframes spin {\n",
              "    0% {\n",
              "      border-color: transparent;\n",
              "      border-bottom-color: var(--fill-color);\n",
              "      border-left-color: var(--fill-color);\n",
              "    }\n",
              "    20% {\n",
              "      border-color: transparent;\n",
              "      border-left-color: var(--fill-color);\n",
              "      border-top-color: var(--fill-color);\n",
              "    }\n",
              "    30% {\n",
              "      border-color: transparent;\n",
              "      border-left-color: var(--fill-color);\n",
              "      border-top-color: var(--fill-color);\n",
              "      border-right-color: var(--fill-color);\n",
              "    }\n",
              "    40% {\n",
              "      border-color: transparent;\n",
              "      border-right-color: var(--fill-color);\n",
              "      border-top-color: var(--fill-color);\n",
              "    }\n",
              "    60% {\n",
              "      border-color: transparent;\n",
              "      border-right-color: var(--fill-color);\n",
              "    }\n",
              "    80% {\n",
              "      border-color: transparent;\n",
              "      border-right-color: var(--fill-color);\n",
              "      border-bottom-color: var(--fill-color);\n",
              "    }\n",
              "    90% {\n",
              "      border-color: transparent;\n",
              "      border-bottom-color: var(--fill-color);\n",
              "    }\n",
              "  }\n",
              "</style>\n",
              "\n",
              "      <script>\n",
              "        async function quickchart(key) {\n",
              "          const quickchartButtonEl =\n",
              "            document.querySelector('#' + key + ' button');\n",
              "          quickchartButtonEl.disabled = true;  // To prevent multiple clicks.\n",
              "          quickchartButtonEl.classList.add('colab-df-spinner');\n",
              "          try {\n",
              "            const charts = await google.colab.kernel.invokeFunction(\n",
              "                'suggestCharts', [key], {});\n",
              "          } catch (error) {\n",
              "            console.error('Error during call to suggestCharts:', error);\n",
              "          }\n",
              "          quickchartButtonEl.classList.remove('colab-df-spinner');\n",
              "          quickchartButtonEl.classList.add('colab-df-quickchart-complete');\n",
              "        }\n",
              "        (() => {\n",
              "          let quickchartButtonEl =\n",
              "            document.querySelector('#df-7df90feb-2362-44f4-8648-90ec1e4b0743 button');\n",
              "          quickchartButtonEl.style.display =\n",
              "            google.colab.kernel.accessAllowed ? 'block' : 'none';\n",
              "        })();\n",
              "      </script>\n",
              "    </div>\n",
              "\n",
              "    </div>\n",
              "  </div>\n"
            ],
            "application/vnd.google.colaboratory.intrinsic+json": {
              "type": "dataframe",
              "variable_name": "cancer_data"
            }
          },
          "metadata": {},
          "execution_count": 60
        }
      ]
    },
    {
      "cell_type": "code",
      "source": [
        "selected_features = ['patient_age','smoking_status','cigarettes_per_day','has_other_cancer','asthma_diagnosis','liver_condition\t','blood_pressure_status','diagnosis_date','cancer_stage','treatment_start_date','treatment_type','treatment_end_date']\n"
      ],
      "metadata": {
        "id": "W-SipZaowGfo"
      },
      "execution_count": 61,
      "outputs": []
    },
    {
      "cell_type": "code",
      "source": [
        "combined_features = (\n",
        "    cancer_data['patient_age'].astype(str) + ' ' +\n",
        "    cancer_data['smoking_status'].astype(str) + ' ' +\n",
        "    cancer_data['cigarettes_per_day'].astype(str) + ' ' +\n",
        "    cancer_data['has_other_cancer'].astype(str) + ' ' +\n",
        "    cancer_data['asthma_diagnosis'].astype(str) + ' ' +\n",
        "    cancer_data['liver_condition'].astype(str) + ' ' +\n",
        "    cancer_data['blood_pressure_status'].astype(str) + ' ' +\n",
        "    cancer_data['diagnosis_date'].astype(str) + ' ' +\n",
        "    cancer_data['cancer_stage'].astype(str) + ' ' +\n",
        "    cancer_data['treatment_start_date'].astype(str) + ' ' +\n",
        "    cancer_data['treatment_type'].astype(str) + ' ' +\n",
        "    cancer_data['treatment_end_date'].astype(str)\n",
        ")\n"
      ],
      "metadata": {
        "id": "L7YEhtEvxDVK"
      },
      "execution_count": 62,
      "outputs": []
    },
    {
      "cell_type": "code",
      "source": [
        "print(combined_features)"
      ],
      "metadata": {
        "colab": {
          "base_uri": "https://localhost:8080/"
        },
        "id": "pRAH-LqWyUYA",
        "outputId": "9f85d5ad-de0f-4c8d-c2b9-02f04db82c82"
      },
      "execution_count": 63,
      "outputs": [
        {
          "output_type": "stream",
          "name": "stdout",
          "text": [
            "0         51 Passive Smoker nan No Yes Has Cirrhosis Hig...\n",
            "1         52 Never Smoked nan No No Normal High Blood Pr...\n",
            "2         62 Current Smoker 5.0 Yes No Normal High Blood...\n",
            "3         46 Never Smoked nan No No Normal Normal 2019-0...\n",
            "4         65 Current Smoker 1.0 No Yes Has Cirrhosis Nor...\n",
            "                                ...                        \n",
            "999994    55 Current Smoker 2.0 No Yes Has Cirrhosis Hig...\n",
            "999995    59 Never Smoked nan No Yes Normal High Blood P...\n",
            "999996    52 Passive Smoker nan No No Normal Normal 2017...\n",
            "999997    62 Never Smoked nan Yes No Normal High Blood P...\n",
            "999998    55 Former Smoker 7.0 No Yes Normal High Blood ...\n",
            "Length: 999999, dtype: object\n"
          ]
        }
      ]
    },
    {
      "cell_type": "code",
      "source": [
        "\n",
        "import difflib\n",
        "from sklearn.feature_extraction.text import TfidfVectorizer\n",
        "from sklearn.metrics.pairwise import cosine_similarity"
      ],
      "metadata": {
        "id": "HBD3Y59tyXoK"
      },
      "execution_count": 64,
      "outputs": []
    },
    {
      "cell_type": "code",
      "source": [
        "vectorizer = TfidfVectorizer()"
      ],
      "metadata": {
        "id": "EsFLZK_Rymlo"
      },
      "execution_count": 65,
      "outputs": []
    },
    {
      "cell_type": "code",
      "source": [
        "from sklearn.linear_model import LogisticRegression\n",
        "from sklearn.metrics import accuracy_score\n"
      ],
      "metadata": {
        "id": "VpXZjc9nzbVe"
      },
      "execution_count": 66,
      "outputs": []
    },
    {
      "cell_type": "code",
      "source": [
        "# Transform text into sparse matrix\n",
        "featured_vectors = vectorizer.fit_transform(combined_features)\n",
        "\n",
        "# Convert to dense array\n",
        "dense_array = featured_vectors.toarray()\n",
        "\n",
        "# Get feature names\n",
        "feature_names = vectorizer.get_feature_names_out()\n",
        "\n",
        "# Create DataFrame\n",
        "df_features = pd.DataFrame(dense_array, columns=feature_names)\n",
        "\n",
        "# View\n",
        "print(df_features.head())\n"
      ],
      "metadata": {
        "colab": {
          "base_uri": "https://localhost:8080/"
        },
        "id": "TkUkACM-oXw4",
        "outputId": "a1a0325a-89aa-48c2-d6fa-69a70fef835a"
      },
      "execution_count": 67,
      "outputs": [
        {
          "output_type": "stream",
          "name": "stdout",
          "text": [
            "        01   02        03        04        05        06        07        08  \\\n",
            "0  0.00000  0.0  0.000000  0.000000  0.000000  0.197889  0.000000  0.000000   \n",
            "1  0.00000  0.0  0.414522  0.208382  0.000000  0.000000  0.206596  0.206730   \n",
            "2  0.21173  0.0  0.423335  0.000000  0.211006  0.213180  0.000000  0.000000   \n",
            "3  0.00000  0.0  0.000000  0.397356  0.000000  0.000000  0.000000  0.197104   \n",
            "4  0.00000  0.0  0.000000  0.193727  0.384165  0.000000  0.000000  0.000000   \n",
            "\n",
            "         09        10  ...   ok   passive  pressure  radiation  smk    smoked  \\\n",
            "0  0.197547  0.380208  ...  0.0  0.200919  0.108438   0.201205  0.0  0.000000   \n",
            "1  0.000000  0.200530  ...  0.0  0.000000  0.114385   0.000000  0.0  0.212172   \n",
            "2  0.000000  0.204793  ...  0.0  0.000000  0.116817   0.000000  0.0  0.000000   \n",
            "3  0.000000  0.000000  ...  0.0  0.000000  0.000000   0.000000  0.0  0.202292   \n",
            "4  0.000000  0.000000  ...  0.0  0.000000  0.000000   0.000000  0.0  0.000000   \n",
            "\n",
            "     smoker  surg   surgery       yes  \n",
            "0  0.108337   0.0  0.000000  0.140910  \n",
            "1  0.000000   0.0  0.000000  0.000000  \n",
            "2  0.116708   0.0  0.000000  0.151797  \n",
            "3  0.000000   0.0  0.201713  0.000000  \n",
            "4  0.106241   0.0  0.196685  0.138184  \n",
            "\n",
            "[5 rows x 144 columns]\n"
          ]
        }
      ]
    },
    {
      "cell_type": "code",
      "source": [
        "from sklearn.model_selection import train_test_split\n",
        "labels = cancer_data['survival_status']\n",
        "X_train, X_test, y_train, y_test = train_test_split(\n",
        "    df_features,\n",
        "    labels,\n",
        "    test_size=0.2,\n",
        "    random_state=42\n",
        ")\n"
      ],
      "metadata": {
        "id": "dSi8rwh0k-ZE"
      },
      "execution_count": 68,
      "outputs": []
    },
    {
      "cell_type": "code",
      "source": [
        "model = LogisticRegression(class_weight='balanced')"
      ],
      "metadata": {
        "id": "pPW8sz5fmvVy"
      },
      "execution_count": 69,
      "outputs": []
    },
    {
      "cell_type": "code",
      "source": [
        "print(X_train)"
      ],
      "metadata": {
        "colab": {
          "base_uri": "https://localhost:8080/"
        },
        "id": "PtWFBT9Em5ID",
        "outputId": "7ebeac9a-f1a4-45f6-bc27-7095d7c01380"
      },
      "execution_count": 70,
      "outputs": [
        {
          "output_type": "stream",
          "name": "stdout",
          "text": [
            "              01        02        03        04        05        06   07   08  \\\n",
            "566853  0.201969  0.206004  0.000000  0.000000  0.000000  0.000000  0.0  0.0   \n",
            "382311  0.361149  0.184182  0.000000  0.000000  0.000000  0.000000  0.0  0.0   \n",
            "241519  0.000000  0.184294  0.180631  0.000000  0.000000  0.000000  0.0  0.0   \n",
            "930120  0.000000  0.000000  0.192763  0.387610  0.192160  0.194139  0.0  0.0   \n",
            "911069  0.206007  0.000000  0.000000  0.000000  0.000000  0.207417  0.0  0.0   \n",
            "...          ...       ...       ...       ...       ...       ...  ...  ...   \n",
            "259178  0.192470  0.000000  0.000000  0.000000  0.383625  0.387576  0.0  0.0   \n",
            "365838  0.000000  0.000000  0.392433  0.000000  0.000000  0.000000  0.0  0.0   \n",
            "131932  0.229882  0.234475  0.000000  0.000000  0.000000  0.000000  0.0  0.0   \n",
            "671155  0.177068  0.000000  0.354032  0.000000  0.000000  0.178280  0.0  0.0   \n",
            "121958  0.000000  0.000000  0.000000  0.184918  0.183349  0.185237  0.0  0.0   \n",
            "\n",
            "              09        10  ...   ok   passive  pressure  radiation  smk  \\\n",
            "566853  0.000000  0.390704  ...  0.0  0.000000  0.000000   0.000000  0.0   \n",
            "382311  0.181496  0.174658  ...  0.0  0.000000  0.099628   0.184858  0.0   \n",
            "241519  0.181606  0.000000  ...  0.0  0.000000  0.099688   0.184970  0.0   \n",
            "930120  0.000000  0.186502  ...  0.0  0.000000  0.000000   0.197393  0.0   \n",
            "911069  0.000000  0.000000  ...  0.0  0.000000  0.113659   0.000000  0.0   \n",
            "...          ...       ...  ...  ...       ...       ...        ...  ...   \n",
            "259178  0.000000  0.000000  ...  0.0  0.196755  0.106191   0.000000  0.0   \n",
            "365838  0.197276  0.000000  ...  0.0  0.200644  0.000000   0.000000  0.0   \n",
            "131932  0.231056  0.000000  ...  0.0  0.235000  0.126832   0.000000  0.0   \n",
            "671155  0.000000  0.000000  ...  0.0  0.000000  0.097693   0.000000  0.0   \n",
            "121958  0.000000  0.000000  ...  0.0  0.000000  0.101505   0.000000  0.0   \n",
            "\n",
            "          smoked    smoker  surg   surgery       yes  \n",
            "566853  0.206694  0.000000   0.0  0.206102  0.144799  \n",
            "382311  0.000000  0.099535   0.0  0.000000  0.000000  \n",
            "241519  0.000000  0.099595   0.0  0.000000  0.000000  \n",
            "930120  0.000000  0.106284   0.0  0.000000  0.138240  \n",
            "911069  0.210826  0.000000   0.0  0.000000  0.000000  \n",
            "...          ...       ...   ...       ...       ...  \n",
            "259178  0.000000  0.106092   0.0  0.000000  0.137989  \n",
            "365838  0.000000  0.108189   0.0  0.000000  0.000000  \n",
            "131932  0.000000  0.126714   0.0  0.000000  0.164811  \n",
            "671155  0.181210  0.000000   0.0  0.000000  0.000000  \n",
            "121958  0.000000  0.101411   0.0  0.187742  0.131901  \n",
            "\n",
            "[799999 rows x 144 columns]\n"
          ]
        }
      ]
    },
    {
      "cell_type": "code",
      "source": [
        "model.fit(X_train,y_train)"
      ],
      "metadata": {
        "colab": {
          "base_uri": "https://localhost:8080/",
          "height": 80
        },
        "id": "iEdZZbgKmwen",
        "outputId": "3b3e6e16-f0e4-4093-e657-db24ba21118e"
      },
      "execution_count": 71,
      "outputs": [
        {
          "output_type": "execute_result",
          "data": {
            "text/plain": [
              "LogisticRegression(class_weight='balanced')"
            ],
            "text/html": [
              "<style>#sk-container-id-3 {\n",
              "  /* Definition of color scheme common for light and dark mode */\n",
              "  --sklearn-color-text: #000;\n",
              "  --sklearn-color-text-muted: #666;\n",
              "  --sklearn-color-line: gray;\n",
              "  /* Definition of color scheme for unfitted estimators */\n",
              "  --sklearn-color-unfitted-level-0: #fff5e6;\n",
              "  --sklearn-color-unfitted-level-1: #f6e4d2;\n",
              "  --sklearn-color-unfitted-level-2: #ffe0b3;\n",
              "  --sklearn-color-unfitted-level-3: chocolate;\n",
              "  /* Definition of color scheme for fitted estimators */\n",
              "  --sklearn-color-fitted-level-0: #f0f8ff;\n",
              "  --sklearn-color-fitted-level-1: #d4ebff;\n",
              "  --sklearn-color-fitted-level-2: #b3dbfd;\n",
              "  --sklearn-color-fitted-level-3: cornflowerblue;\n",
              "\n",
              "  /* Specific color for light theme */\n",
              "  --sklearn-color-text-on-default-background: var(--sg-text-color, var(--theme-code-foreground, var(--jp-content-font-color1, black)));\n",
              "  --sklearn-color-background: var(--sg-background-color, var(--theme-background, var(--jp-layout-color0, white)));\n",
              "  --sklearn-color-border-box: var(--sg-text-color, var(--theme-code-foreground, var(--jp-content-font-color1, black)));\n",
              "  --sklearn-color-icon: #696969;\n",
              "\n",
              "  @media (prefers-color-scheme: dark) {\n",
              "    /* Redefinition of color scheme for dark theme */\n",
              "    --sklearn-color-text-on-default-background: var(--sg-text-color, var(--theme-code-foreground, var(--jp-content-font-color1, white)));\n",
              "    --sklearn-color-background: var(--sg-background-color, var(--theme-background, var(--jp-layout-color0, #111)));\n",
              "    --sklearn-color-border-box: var(--sg-text-color, var(--theme-code-foreground, var(--jp-content-font-color1, white)));\n",
              "    --sklearn-color-icon: #878787;\n",
              "  }\n",
              "}\n",
              "\n",
              "#sk-container-id-3 {\n",
              "  color: var(--sklearn-color-text);\n",
              "}\n",
              "\n",
              "#sk-container-id-3 pre {\n",
              "  padding: 0;\n",
              "}\n",
              "\n",
              "#sk-container-id-3 input.sk-hidden--visually {\n",
              "  border: 0;\n",
              "  clip: rect(1px 1px 1px 1px);\n",
              "  clip: rect(1px, 1px, 1px, 1px);\n",
              "  height: 1px;\n",
              "  margin: -1px;\n",
              "  overflow: hidden;\n",
              "  padding: 0;\n",
              "  position: absolute;\n",
              "  width: 1px;\n",
              "}\n",
              "\n",
              "#sk-container-id-3 div.sk-dashed-wrapped {\n",
              "  border: 1px dashed var(--sklearn-color-line);\n",
              "  margin: 0 0.4em 0.5em 0.4em;\n",
              "  box-sizing: border-box;\n",
              "  padding-bottom: 0.4em;\n",
              "  background-color: var(--sklearn-color-background);\n",
              "}\n",
              "\n",
              "#sk-container-id-3 div.sk-container {\n",
              "  /* jupyter's `normalize.less` sets `[hidden] { display: none; }`\n",
              "     but bootstrap.min.css set `[hidden] { display: none !important; }`\n",
              "     so we also need the `!important` here to be able to override the\n",
              "     default hidden behavior on the sphinx rendered scikit-learn.org.\n",
              "     See: https://github.com/scikit-learn/scikit-learn/issues/21755 */\n",
              "  display: inline-block !important;\n",
              "  position: relative;\n",
              "}\n",
              "\n",
              "#sk-container-id-3 div.sk-text-repr-fallback {\n",
              "  display: none;\n",
              "}\n",
              "\n",
              "div.sk-parallel-item,\n",
              "div.sk-serial,\n",
              "div.sk-item {\n",
              "  /* draw centered vertical line to link estimators */\n",
              "  background-image: linear-gradient(var(--sklearn-color-text-on-default-background), var(--sklearn-color-text-on-default-background));\n",
              "  background-size: 2px 100%;\n",
              "  background-repeat: no-repeat;\n",
              "  background-position: center center;\n",
              "}\n",
              "\n",
              "/* Parallel-specific style estimator block */\n",
              "\n",
              "#sk-container-id-3 div.sk-parallel-item::after {\n",
              "  content: \"\";\n",
              "  width: 100%;\n",
              "  border-bottom: 2px solid var(--sklearn-color-text-on-default-background);\n",
              "  flex-grow: 1;\n",
              "}\n",
              "\n",
              "#sk-container-id-3 div.sk-parallel {\n",
              "  display: flex;\n",
              "  align-items: stretch;\n",
              "  justify-content: center;\n",
              "  background-color: var(--sklearn-color-background);\n",
              "  position: relative;\n",
              "}\n",
              "\n",
              "#sk-container-id-3 div.sk-parallel-item {\n",
              "  display: flex;\n",
              "  flex-direction: column;\n",
              "}\n",
              "\n",
              "#sk-container-id-3 div.sk-parallel-item:first-child::after {\n",
              "  align-self: flex-end;\n",
              "  width: 50%;\n",
              "}\n",
              "\n",
              "#sk-container-id-3 div.sk-parallel-item:last-child::after {\n",
              "  align-self: flex-start;\n",
              "  width: 50%;\n",
              "}\n",
              "\n",
              "#sk-container-id-3 div.sk-parallel-item:only-child::after {\n",
              "  width: 0;\n",
              "}\n",
              "\n",
              "/* Serial-specific style estimator block */\n",
              "\n",
              "#sk-container-id-3 div.sk-serial {\n",
              "  display: flex;\n",
              "  flex-direction: column;\n",
              "  align-items: center;\n",
              "  background-color: var(--sklearn-color-background);\n",
              "  padding-right: 1em;\n",
              "  padding-left: 1em;\n",
              "}\n",
              "\n",
              "\n",
              "/* Toggleable style: style used for estimator/Pipeline/ColumnTransformer box that is\n",
              "clickable and can be expanded/collapsed.\n",
              "- Pipeline and ColumnTransformer use this feature and define the default style\n",
              "- Estimators will overwrite some part of the style using the `sk-estimator` class\n",
              "*/\n",
              "\n",
              "/* Pipeline and ColumnTransformer style (default) */\n",
              "\n",
              "#sk-container-id-3 div.sk-toggleable {\n",
              "  /* Default theme specific background. It is overwritten whether we have a\n",
              "  specific estimator or a Pipeline/ColumnTransformer */\n",
              "  background-color: var(--sklearn-color-background);\n",
              "}\n",
              "\n",
              "/* Toggleable label */\n",
              "#sk-container-id-3 label.sk-toggleable__label {\n",
              "  cursor: pointer;\n",
              "  display: flex;\n",
              "  width: 100%;\n",
              "  margin-bottom: 0;\n",
              "  padding: 0.5em;\n",
              "  box-sizing: border-box;\n",
              "  text-align: center;\n",
              "  align-items: start;\n",
              "  justify-content: space-between;\n",
              "  gap: 0.5em;\n",
              "}\n",
              "\n",
              "#sk-container-id-3 label.sk-toggleable__label .caption {\n",
              "  font-size: 0.6rem;\n",
              "  font-weight: lighter;\n",
              "  color: var(--sklearn-color-text-muted);\n",
              "}\n",
              "\n",
              "#sk-container-id-3 label.sk-toggleable__label-arrow:before {\n",
              "  /* Arrow on the left of the label */\n",
              "  content: \"▸\";\n",
              "  float: left;\n",
              "  margin-right: 0.25em;\n",
              "  color: var(--sklearn-color-icon);\n",
              "}\n",
              "\n",
              "#sk-container-id-3 label.sk-toggleable__label-arrow:hover:before {\n",
              "  color: var(--sklearn-color-text);\n",
              "}\n",
              "\n",
              "/* Toggleable content - dropdown */\n",
              "\n",
              "#sk-container-id-3 div.sk-toggleable__content {\n",
              "  max-height: 0;\n",
              "  max-width: 0;\n",
              "  overflow: hidden;\n",
              "  text-align: left;\n",
              "  /* unfitted */\n",
              "  background-color: var(--sklearn-color-unfitted-level-0);\n",
              "}\n",
              "\n",
              "#sk-container-id-3 div.sk-toggleable__content.fitted {\n",
              "  /* fitted */\n",
              "  background-color: var(--sklearn-color-fitted-level-0);\n",
              "}\n",
              "\n",
              "#sk-container-id-3 div.sk-toggleable__content pre {\n",
              "  margin: 0.2em;\n",
              "  border-radius: 0.25em;\n",
              "  color: var(--sklearn-color-text);\n",
              "  /* unfitted */\n",
              "  background-color: var(--sklearn-color-unfitted-level-0);\n",
              "}\n",
              "\n",
              "#sk-container-id-3 div.sk-toggleable__content.fitted pre {\n",
              "  /* unfitted */\n",
              "  background-color: var(--sklearn-color-fitted-level-0);\n",
              "}\n",
              "\n",
              "#sk-container-id-3 input.sk-toggleable__control:checked~div.sk-toggleable__content {\n",
              "  /* Expand drop-down */\n",
              "  max-height: 200px;\n",
              "  max-width: 100%;\n",
              "  overflow: auto;\n",
              "}\n",
              "\n",
              "#sk-container-id-3 input.sk-toggleable__control:checked~label.sk-toggleable__label-arrow:before {\n",
              "  content: \"▾\";\n",
              "}\n",
              "\n",
              "/* Pipeline/ColumnTransformer-specific style */\n",
              "\n",
              "#sk-container-id-3 div.sk-label input.sk-toggleable__control:checked~label.sk-toggleable__label {\n",
              "  color: var(--sklearn-color-text);\n",
              "  background-color: var(--sklearn-color-unfitted-level-2);\n",
              "}\n",
              "\n",
              "#sk-container-id-3 div.sk-label.fitted input.sk-toggleable__control:checked~label.sk-toggleable__label {\n",
              "  background-color: var(--sklearn-color-fitted-level-2);\n",
              "}\n",
              "\n",
              "/* Estimator-specific style */\n",
              "\n",
              "/* Colorize estimator box */\n",
              "#sk-container-id-3 div.sk-estimator input.sk-toggleable__control:checked~label.sk-toggleable__label {\n",
              "  /* unfitted */\n",
              "  background-color: var(--sklearn-color-unfitted-level-2);\n",
              "}\n",
              "\n",
              "#sk-container-id-3 div.sk-estimator.fitted input.sk-toggleable__control:checked~label.sk-toggleable__label {\n",
              "  /* fitted */\n",
              "  background-color: var(--sklearn-color-fitted-level-2);\n",
              "}\n",
              "\n",
              "#sk-container-id-3 div.sk-label label.sk-toggleable__label,\n",
              "#sk-container-id-3 div.sk-label label {\n",
              "  /* The background is the default theme color */\n",
              "  color: var(--sklearn-color-text-on-default-background);\n",
              "}\n",
              "\n",
              "/* On hover, darken the color of the background */\n",
              "#sk-container-id-3 div.sk-label:hover label.sk-toggleable__label {\n",
              "  color: var(--sklearn-color-text);\n",
              "  background-color: var(--sklearn-color-unfitted-level-2);\n",
              "}\n",
              "\n",
              "/* Label box, darken color on hover, fitted */\n",
              "#sk-container-id-3 div.sk-label.fitted:hover label.sk-toggleable__label.fitted {\n",
              "  color: var(--sklearn-color-text);\n",
              "  background-color: var(--sklearn-color-fitted-level-2);\n",
              "}\n",
              "\n",
              "/* Estimator label */\n",
              "\n",
              "#sk-container-id-3 div.sk-label label {\n",
              "  font-family: monospace;\n",
              "  font-weight: bold;\n",
              "  display: inline-block;\n",
              "  line-height: 1.2em;\n",
              "}\n",
              "\n",
              "#sk-container-id-3 div.sk-label-container {\n",
              "  text-align: center;\n",
              "}\n",
              "\n",
              "/* Estimator-specific */\n",
              "#sk-container-id-3 div.sk-estimator {\n",
              "  font-family: monospace;\n",
              "  border: 1px dotted var(--sklearn-color-border-box);\n",
              "  border-radius: 0.25em;\n",
              "  box-sizing: border-box;\n",
              "  margin-bottom: 0.5em;\n",
              "  /* unfitted */\n",
              "  background-color: var(--sklearn-color-unfitted-level-0);\n",
              "}\n",
              "\n",
              "#sk-container-id-3 div.sk-estimator.fitted {\n",
              "  /* fitted */\n",
              "  background-color: var(--sklearn-color-fitted-level-0);\n",
              "}\n",
              "\n",
              "/* on hover */\n",
              "#sk-container-id-3 div.sk-estimator:hover {\n",
              "  /* unfitted */\n",
              "  background-color: var(--sklearn-color-unfitted-level-2);\n",
              "}\n",
              "\n",
              "#sk-container-id-3 div.sk-estimator.fitted:hover {\n",
              "  /* fitted */\n",
              "  background-color: var(--sklearn-color-fitted-level-2);\n",
              "}\n",
              "\n",
              "/* Specification for estimator info (e.g. \"i\" and \"?\") */\n",
              "\n",
              "/* Common style for \"i\" and \"?\" */\n",
              "\n",
              ".sk-estimator-doc-link,\n",
              "a:link.sk-estimator-doc-link,\n",
              "a:visited.sk-estimator-doc-link {\n",
              "  float: right;\n",
              "  font-size: smaller;\n",
              "  line-height: 1em;\n",
              "  font-family: monospace;\n",
              "  background-color: var(--sklearn-color-background);\n",
              "  border-radius: 1em;\n",
              "  height: 1em;\n",
              "  width: 1em;\n",
              "  text-decoration: none !important;\n",
              "  margin-left: 0.5em;\n",
              "  text-align: center;\n",
              "  /* unfitted */\n",
              "  border: var(--sklearn-color-unfitted-level-1) 1pt solid;\n",
              "  color: var(--sklearn-color-unfitted-level-1);\n",
              "}\n",
              "\n",
              ".sk-estimator-doc-link.fitted,\n",
              "a:link.sk-estimator-doc-link.fitted,\n",
              "a:visited.sk-estimator-doc-link.fitted {\n",
              "  /* fitted */\n",
              "  border: var(--sklearn-color-fitted-level-1) 1pt solid;\n",
              "  color: var(--sklearn-color-fitted-level-1);\n",
              "}\n",
              "\n",
              "/* On hover */\n",
              "div.sk-estimator:hover .sk-estimator-doc-link:hover,\n",
              ".sk-estimator-doc-link:hover,\n",
              "div.sk-label-container:hover .sk-estimator-doc-link:hover,\n",
              ".sk-estimator-doc-link:hover {\n",
              "  /* unfitted */\n",
              "  background-color: var(--sklearn-color-unfitted-level-3);\n",
              "  color: var(--sklearn-color-background);\n",
              "  text-decoration: none;\n",
              "}\n",
              "\n",
              "div.sk-estimator.fitted:hover .sk-estimator-doc-link.fitted:hover,\n",
              ".sk-estimator-doc-link.fitted:hover,\n",
              "div.sk-label-container:hover .sk-estimator-doc-link.fitted:hover,\n",
              ".sk-estimator-doc-link.fitted:hover {\n",
              "  /* fitted */\n",
              "  background-color: var(--sklearn-color-fitted-level-3);\n",
              "  color: var(--sklearn-color-background);\n",
              "  text-decoration: none;\n",
              "}\n",
              "\n",
              "/* Span, style for the box shown on hovering the info icon */\n",
              ".sk-estimator-doc-link span {\n",
              "  display: none;\n",
              "  z-index: 9999;\n",
              "  position: relative;\n",
              "  font-weight: normal;\n",
              "  right: .2ex;\n",
              "  padding: .5ex;\n",
              "  margin: .5ex;\n",
              "  width: min-content;\n",
              "  min-width: 20ex;\n",
              "  max-width: 50ex;\n",
              "  color: var(--sklearn-color-text);\n",
              "  box-shadow: 2pt 2pt 4pt #999;\n",
              "  /* unfitted */\n",
              "  background: var(--sklearn-color-unfitted-level-0);\n",
              "  border: .5pt solid var(--sklearn-color-unfitted-level-3);\n",
              "}\n",
              "\n",
              ".sk-estimator-doc-link.fitted span {\n",
              "  /* fitted */\n",
              "  background: var(--sklearn-color-fitted-level-0);\n",
              "  border: var(--sklearn-color-fitted-level-3);\n",
              "}\n",
              "\n",
              ".sk-estimator-doc-link:hover span {\n",
              "  display: block;\n",
              "}\n",
              "\n",
              "/* \"?\"-specific style due to the `<a>` HTML tag */\n",
              "\n",
              "#sk-container-id-3 a.estimator_doc_link {\n",
              "  float: right;\n",
              "  font-size: 1rem;\n",
              "  line-height: 1em;\n",
              "  font-family: monospace;\n",
              "  background-color: var(--sklearn-color-background);\n",
              "  border-radius: 1rem;\n",
              "  height: 1rem;\n",
              "  width: 1rem;\n",
              "  text-decoration: none;\n",
              "  /* unfitted */\n",
              "  color: var(--sklearn-color-unfitted-level-1);\n",
              "  border: var(--sklearn-color-unfitted-level-1) 1pt solid;\n",
              "}\n",
              "\n",
              "#sk-container-id-3 a.estimator_doc_link.fitted {\n",
              "  /* fitted */\n",
              "  border: var(--sklearn-color-fitted-level-1) 1pt solid;\n",
              "  color: var(--sklearn-color-fitted-level-1);\n",
              "}\n",
              "\n",
              "/* On hover */\n",
              "#sk-container-id-3 a.estimator_doc_link:hover {\n",
              "  /* unfitted */\n",
              "  background-color: var(--sklearn-color-unfitted-level-3);\n",
              "  color: var(--sklearn-color-background);\n",
              "  text-decoration: none;\n",
              "}\n",
              "\n",
              "#sk-container-id-3 a.estimator_doc_link.fitted:hover {\n",
              "  /* fitted */\n",
              "  background-color: var(--sklearn-color-fitted-level-3);\n",
              "}\n",
              "</style><div id=\"sk-container-id-3\" class=\"sk-top-container\"><div class=\"sk-text-repr-fallback\"><pre>LogisticRegression(class_weight=&#x27;balanced&#x27;)</pre><b>In a Jupyter environment, please rerun this cell to show the HTML representation or trust the notebook. <br />On GitHub, the HTML representation is unable to render, please try loading this page with nbviewer.org.</b></div><div class=\"sk-container\" hidden><div class=\"sk-item\"><div class=\"sk-estimator fitted sk-toggleable\"><input class=\"sk-toggleable__control sk-hidden--visually\" id=\"sk-estimator-id-3\" type=\"checkbox\" checked><label for=\"sk-estimator-id-3\" class=\"sk-toggleable__label fitted sk-toggleable__label-arrow\"><div><div>LogisticRegression</div></div><div><a class=\"sk-estimator-doc-link fitted\" rel=\"noreferrer\" target=\"_blank\" href=\"https://scikit-learn.org/1.6/modules/generated/sklearn.linear_model.LogisticRegression.html\">?<span>Documentation for LogisticRegression</span></a><span class=\"sk-estimator-doc-link fitted\">i<span>Fitted</span></span></div></label><div class=\"sk-toggleable__content fitted\"><pre>LogisticRegression(class_weight=&#x27;balanced&#x27;)</pre></div> </div></div></div></div>"
            ]
          },
          "metadata": {},
          "execution_count": 71
        }
      ]
    },
    {
      "cell_type": "code",
      "source": [
        "print(X_train.shape)\n",
        "print(y_train.shape)"
      ],
      "metadata": {
        "colab": {
          "base_uri": "https://localhost:8080/"
        },
        "id": "B9vOsRVrn8nV",
        "outputId": "d9652655-2858-4921-d166-cf73fd5d2200"
      },
      "execution_count": 72,
      "outputs": [
        {
          "output_type": "stream",
          "name": "stdout",
          "text": [
            "(799999, 144)\n",
            "(799999,)\n"
          ]
        }
      ]
    },
    {
      "cell_type": "code",
      "source": [
        "print(combined_features.shape)"
      ],
      "metadata": {
        "colab": {
          "base_uri": "https://localhost:8080/"
        },
        "id": "jVRTjDdmoGYF",
        "outputId": "f157f7bc-4650-4c38-be3e-9945940ca5d3"
      },
      "execution_count": 73,
      "outputs": [
        {
          "output_type": "stream",
          "name": "stdout",
          "text": [
            "(999999,)\n"
          ]
        }
      ]
    },
    {
      "cell_type": "code",
      "source": [
        "prediction_on_training_data = model.predict(X_train)\n",
        "\n",
        "accuracy_on_training_data = accuracy_score(y_train, prediction_on_training_data)"
      ],
      "metadata": {
        "id": "ONIAdtWvom3D"
      },
      "execution_count": 74,
      "outputs": []
    },
    {
      "cell_type": "code",
      "source": [
        "print(accuracy_on_training_data)"
      ],
      "metadata": {
        "colab": {
          "base_uri": "https://localhost:8080/"
        },
        "id": "P6ZuRzGMo0_6",
        "outputId": "42570060-45fc-4c8f-d844-8312bc08ccd3"
      },
      "execution_count": 75,
      "outputs": [
        {
          "output_type": "stream",
          "name": "stdout",
          "text": [
            "0.4998368747960935\n"
          ]
        }
      ]
    },
    {
      "cell_type": "code",
      "source": [
        "# Example new patient data\n",
        "new_patient_data = {\n",
        "    'patient_age': 55,\n",
        "    'smoking_status': 'Former Smoker',\n",
        "    'cigarettes_per_day': 17,\n",
        "    'has_other_cancer': 'Yes',\n",
        "    'asthma_diagnosis': 'No',\n",
        "    'liver_condition': 'Yes',\n",
        "    'blood_pressure_status': 'High Blood Pressure',\n",
        "    'diagnosis_date': '2018-11-03',\n",
        "    'cancer_stage': '2',\n",
        "    'treatment_start_date': '2018-11-21',\n",
        "    'treatment_type': 'Surgery',\n",
        "    'treatment_end_date': '2019-06-25'\n",
        "}\n",
        "\n",
        "\n",
        "# new_patient_data = {\n",
        "#     'patient_age': 30,                  # younger age\n",
        "#     'smoking_status': 'never smoked',   # no smoking\n",
        "#     'cigarettes_per_day': 0,            # no cigarettes\n",
        "#     'has_other_cancer': 'no',           # no other cancers\n",
        "#     'asthma_diagnosis': 'no',           # no asthma\n",
        "#     'liver_condition': 'no',            # no liver problems\n",
        "#     'blood_pressure_status': 'normal',  # healthy BP\n",
        "#     'diagnosis_date': '2024-01-01',\n",
        "#     'cancer_stage': 'I',                # early-stage cancer\n",
        "#     'treatment_start_date': '2024-01-15',\n",
        "#     'treatment_type': 'surgery',        # effective early treatment\n",
        "#     'treatment_end_date': '2024-02-15'\n",
        "# }\n",
        "\n",
        "\n",
        "# Combine into string\n",
        "new_combined = (\n",
        "    str(new_patient_data['patient_age']) + ' ' +\n",
        "    str(new_patient_data['smoking_status']) + ' ' +\n",
        "    str(new_patient_data['cigarettes_per_day']) + ' ' +\n",
        "    str(new_patient_data['has_other_cancer']) + ' ' +\n",
        "    str(new_patient_data['asthma_diagnosis']) + ' ' +\n",
        "    str(new_patient_data['liver_condition']) + ' ' +\n",
        "    str(new_patient_data['blood_pressure_status']) + ' ' +\n",
        "    str(new_patient_data['diagnosis_date']) + ' ' +\n",
        "    str(new_patient_data['cancer_stage']) + ' ' +\n",
        "    str(new_patient_data['treatment_start_date']) + ' ' +\n",
        "    str(new_patient_data['treatment_type']) + ' ' +\n",
        "    str(new_patient_data['treatment_end_date'])\n",
        ")\n",
        "\n",
        "# Transform\n",
        "new_vector = vectorizer.transform([new_combined])\n",
        "\n",
        "# Predict\n",
        "prediction = model.predict(new_vector)\n",
        "proba = model.predict_proba(new_vector)\n",
        "\n",
        "print(\"Predicted survival status:\", prediction[0])\n",
        "print(\"Probability of survival:\", proba[0][1])\n",
        "print(\"Probability of not surviving:\", proba[0][0])\n"
      ],
      "metadata": {
        "colab": {
          "base_uri": "https://localhost:8080/"
        },
        "id": "GHoQVzjdo5hb",
        "outputId": "1eb89f55-4ef5-4b16-ee5d-77a00a59996e"
      },
      "execution_count": 80,
      "outputs": [
        {
          "output_type": "stream",
          "name": "stdout",
          "text": [
            "Predicted survival status: 1\n",
            "Probability of survival: 0.5001185725495223\n",
            "Probability of not surviving: 0.4998814274504777\n"
          ]
        },
        {
          "output_type": "stream",
          "name": "stderr",
          "text": [
            "/usr/local/lib/python3.11/dist-packages/sklearn/utils/validation.py:2739: UserWarning: X does not have valid feature names, but LogisticRegression was fitted with feature names\n",
            "  warnings.warn(\n"
          ]
        }
      ]
    },
    {
      "cell_type": "code",
      "source": [
        "from sklearn.metrics import classification_report\n",
        "report = classification_report(y_train, prediction_on_training_data, target_names=['Not Survived (0)', 'Survived (1)'])\n",
        "print(report)\n"
      ],
      "metadata": {
        "colab": {
          "base_uri": "https://localhost:8080/"
        },
        "id": "MMgYsd0PrDgH",
        "outputId": "fbe20333-150f-4b00-fac6-c688204fc535"
      },
      "execution_count": 77,
      "outputs": [
        {
          "output_type": "stream",
          "name": "stdout",
          "text": [
            "                  precision    recall  f1-score   support\n",
            "\n",
            "Not Survived (0)       0.78      0.50      0.61    624360\n",
            "    Survived (1)       0.22      0.52      0.31    175639\n",
            "\n",
            "        accuracy                           0.50    799999\n",
            "       macro avg       0.50      0.51      0.46    799999\n",
            "    weighted avg       0.66      0.50      0.54    799999\n",
            "\n"
          ]
        }
      ]
    },
    {
      "cell_type": "code",
      "source": [
        "print(cancer_data['survival_status'].value_counts())\n"
      ],
      "metadata": {
        "colab": {
          "base_uri": "https://localhost:8080/"
        },
        "id": "FCxqvcn0rn90",
        "outputId": "b1a04165-dddc-4990-e231-4ab7b4d4c3a4"
      },
      "execution_count": 78,
      "outputs": [
        {
          "output_type": "stream",
          "name": "stdout",
          "text": [
            "survival_status\n",
            "0    780395\n",
            "1    219604\n",
            "Name: count, dtype: int64\n"
          ]
        }
      ]
    },
    {
      "cell_type": "code",
      "source": [
        "import pandas as pd\n",
        "\n",
        "# Load CSV\n",
        "data = pd.read_csv('/content/test.csv')\n",
        "\n",
        "# Combine features\n",
        "combined_features = (\n",
        "    data['patient_age'].astype(str) + ' ' +\n",
        "    data['smoking_status'].astype(str) + ' ' +\n",
        "    data['cigarettes_per_day'].astype(str) + ' ' +\n",
        "    data['has_other_cancer'].astype(str) + ' ' +\n",
        "    data['asthma_diagnosis'].astype(str) + ' ' +\n",
        "    data['liver_condition'].astype(str) + ' ' +\n",
        "    data['blood_pressure_status'].astype(str) + ' ' +\n",
        "    data['diagnosis_date'].astype(str) + ' ' +\n",
        "    data['cancer_stage'].astype(str) + ' ' +\n",
        "    data['treatment_start_date'].astype(str) + ' ' +\n",
        "    data['treatment_type'].astype(str) + ' ' +\n",
        "    data['treatment_end_date'].astype(str)\n",
        ")\n",
        "\n",
        "# Vectorize\n",
        "X_input = vectorizer.transform(combined_features)\n",
        "\n",
        "# Predict\n",
        "predictions = model.predict(X_input)\n",
        "\n",
        "# Append predictions\n",
        "data['predicted_survival_status'] = predictions\n",
        "\n",
        "# Save to CSV\n",
        "data.to_csv('/content/output_with_predictions.csv', index=False)\n",
        "print(\"Done! Output saved as 'output_with_predictions.csv'\")\n",
        "\n",
        "\n",
        "\n",
        "from google.colab import files\n",
        "files.download('/content/output_with_predictions.csv')\n"
      ],
      "metadata": {
        "colab": {
          "base_uri": "https://localhost:8080/",
          "height": 91
        },
        "id": "mL9V1kFgtFiz",
        "outputId": "7022e5d3-ba73-4d98-be31-bc70d83455e6"
      },
      "execution_count": 83,
      "outputs": [
        {
          "output_type": "stream",
          "name": "stderr",
          "text": [
            "/usr/local/lib/python3.11/dist-packages/sklearn/utils/validation.py:2739: UserWarning: X does not have valid feature names, but LogisticRegression was fitted with feature names\n",
            "  warnings.warn(\n"
          ]
        },
        {
          "output_type": "stream",
          "name": "stdout",
          "text": [
            "Done! Output saved as 'output_with_predictions.csv'\n"
          ]
        },
        {
          "output_type": "display_data",
          "data": {
            "text/plain": [
              "<IPython.core.display.Javascript object>"
            ],
            "application/javascript": [
              "\n",
              "    async function download(id, filename, size) {\n",
              "      if (!google.colab.kernel.accessAllowed) {\n",
              "        return;\n",
              "      }\n",
              "      const div = document.createElement('div');\n",
              "      const label = document.createElement('label');\n",
              "      label.textContent = `Downloading \"${filename}\": `;\n",
              "      div.appendChild(label);\n",
              "      const progress = document.createElement('progress');\n",
              "      progress.max = size;\n",
              "      div.appendChild(progress);\n",
              "      document.body.appendChild(div);\n",
              "\n",
              "      const buffers = [];\n",
              "      let downloaded = 0;\n",
              "\n",
              "      const channel = await google.colab.kernel.comms.open(id);\n",
              "      // Send a message to notify the kernel that we're ready.\n",
              "      channel.send({})\n",
              "\n",
              "      for await (const message of channel.messages) {\n",
              "        // Send a message to notify the kernel that we're ready.\n",
              "        channel.send({})\n",
              "        if (message.buffers) {\n",
              "          for (const buffer of message.buffers) {\n",
              "            buffers.push(buffer);\n",
              "            downloaded += buffer.byteLength;\n",
              "            progress.value = downloaded;\n",
              "          }\n",
              "        }\n",
              "      }\n",
              "      const blob = new Blob(buffers, {type: 'application/binary'});\n",
              "      const a = document.createElement('a');\n",
              "      a.href = window.URL.createObjectURL(blob);\n",
              "      a.download = filename;\n",
              "      div.appendChild(a);\n",
              "      a.click();\n",
              "      div.remove();\n",
              "    }\n",
              "  "
            ]
          },
          "metadata": {}
        },
        {
          "output_type": "display_data",
          "data": {
            "text/plain": [
              "<IPython.core.display.Javascript object>"
            ],
            "application/javascript": [
              "download(\"download_db0c14b3-b8d2-42df-a6ff-5ceaed7d317e\", \"output_with_predictions.csv\", 39259810)"
            ]
          },
          "metadata": {}
        }
      ]
    },
    {
      "cell_type": "code",
      "source": [
        "# Select only necessary columns\n",
        "output_df = data[['record_id', 'predicted_survival_status']].copy()\n",
        "\n",
        "# Rename column\n",
        "output_df.rename(columns={'predicted_survival_status': 'survival_status'}, inplace=True)\n",
        "\n",
        "# Save\n",
        "output_df.to_csv('/content/final_submission.csv', index=False)\n",
        "\n",
        "# Download\n",
        "from google.colab import files\n",
        "files.download('/content/final_submission.csv')\n"
      ],
      "metadata": {
        "colab": {
          "base_uri": "https://localhost:8080/",
          "height": 17
        },
        "id": "_Rvn1en75PZ7",
        "outputId": "83f0a2fc-26d0-4571-f2bf-c2a0f698f69c"
      },
      "execution_count": 89,
      "outputs": [
        {
          "output_type": "display_data",
          "data": {
            "text/plain": [
              "<IPython.core.display.Javascript object>"
            ],
            "application/javascript": [
              "\n",
              "    async function download(id, filename, size) {\n",
              "      if (!google.colab.kernel.accessAllowed) {\n",
              "        return;\n",
              "      }\n",
              "      const div = document.createElement('div');\n",
              "      const label = document.createElement('label');\n",
              "      label.textContent = `Downloading \"${filename}\": `;\n",
              "      div.appendChild(label);\n",
              "      const progress = document.createElement('progress');\n",
              "      progress.max = size;\n",
              "      div.appendChild(progress);\n",
              "      document.body.appendChild(div);\n",
              "\n",
              "      const buffers = [];\n",
              "      let downloaded = 0;\n",
              "\n",
              "      const channel = await google.colab.kernel.comms.open(id);\n",
              "      // Send a message to notify the kernel that we're ready.\n",
              "      channel.send({})\n",
              "\n",
              "      for await (const message of channel.messages) {\n",
              "        // Send a message to notify the kernel that we're ready.\n",
              "        channel.send({})\n",
              "        if (message.buffers) {\n",
              "          for (const buffer of message.buffers) {\n",
              "            buffers.push(buffer);\n",
              "            downloaded += buffer.byteLength;\n",
              "            progress.value = downloaded;\n",
              "          }\n",
              "        }\n",
              "      }\n",
              "      const blob = new Blob(buffers, {type: 'application/binary'});\n",
              "      const a = document.createElement('a');\n",
              "      a.href = window.URL.createObjectURL(blob);\n",
              "      a.download = filename;\n",
              "      div.appendChild(a);\n",
              "      a.click();\n",
              "      div.remove();\n",
              "    }\n",
              "  "
            ]
          },
          "metadata": {}
        },
        {
          "output_type": "display_data",
          "data": {
            "text/plain": [
              "<IPython.core.display.Javascript object>"
            ],
            "application/javascript": [
              "download(\"download_dbcdeda1-5ce2-42b3-b010-d6f9570be82c\", \"final_submission.csv\", 2500026)"
            ]
          },
          "metadata": {}
        }
      ]
    },
    {
      "cell_type": "code",
      "source": [
        "import joblib\n"
      ],
      "metadata": {
        "id": "F1K-2iIY4LXg"
      },
      "execution_count": 84,
      "outputs": []
    },
    {
      "cell_type": "code",
      "source": [
        "# Save the model to a .pkl file\n",
        "joblib.dump(model, '/content/final_model.pkl')\n"
      ],
      "metadata": {
        "colab": {
          "base_uri": "https://localhost:8080/"
        },
        "id": "rvQw6xQC4Mfp",
        "outputId": "918bcad8-9309-4bff-e3d2-2036717da1eb"
      },
      "execution_count": 90,
      "outputs": [
        {
          "output_type": "execute_result",
          "data": {
            "text/plain": [
              "['/content/final_model.pkl']"
            ]
          },
          "metadata": {},
          "execution_count": 90
        }
      ]
    },
    {
      "cell_type": "code",
      "source": [
        "!ls -lh /content/final_model.pkl\n"
      ],
      "metadata": {
        "colab": {
          "base_uri": "https://localhost:8080/"
        },
        "id": "VZHPWOeQ4STq",
        "outputId": "5c868695-f866-464d-8ffa-6401937ce9b1"
      },
      "execution_count": 91,
      "outputs": [
        {
          "output_type": "stream",
          "name": "stdout",
          "text": [
            "-rw-r--r-- 1 root root 3.1K Jul 10 05:53 /content/final_model.pkl\n"
          ]
        }
      ]
    },
    {
      "cell_type": "code",
      "source": [
        "from google.colab import files\n",
        "files.download('/content/final_model.pkl')\n"
      ],
      "metadata": {
        "colab": {
          "base_uri": "https://localhost:8080/",
          "height": 17
        },
        "id": "0x0eIkiM4VQa",
        "outputId": "bff183ed-f8a1-468d-8793-0cb0cb84086e"
      },
      "execution_count": 92,
      "outputs": [
        {
          "output_type": "display_data",
          "data": {
            "text/plain": [
              "<IPython.core.display.Javascript object>"
            ],
            "application/javascript": [
              "\n",
              "    async function download(id, filename, size) {\n",
              "      if (!google.colab.kernel.accessAllowed) {\n",
              "        return;\n",
              "      }\n",
              "      const div = document.createElement('div');\n",
              "      const label = document.createElement('label');\n",
              "      label.textContent = `Downloading \"${filename}\": `;\n",
              "      div.appendChild(label);\n",
              "      const progress = document.createElement('progress');\n",
              "      progress.max = size;\n",
              "      div.appendChild(progress);\n",
              "      document.body.appendChild(div);\n",
              "\n",
              "      const buffers = [];\n",
              "      let downloaded = 0;\n",
              "\n",
              "      const channel = await google.colab.kernel.comms.open(id);\n",
              "      // Send a message to notify the kernel that we're ready.\n",
              "      channel.send({})\n",
              "\n",
              "      for await (const message of channel.messages) {\n",
              "        // Send a message to notify the kernel that we're ready.\n",
              "        channel.send({})\n",
              "        if (message.buffers) {\n",
              "          for (const buffer of message.buffers) {\n",
              "            buffers.push(buffer);\n",
              "            downloaded += buffer.byteLength;\n",
              "            progress.value = downloaded;\n",
              "          }\n",
              "        }\n",
              "      }\n",
              "      const blob = new Blob(buffers, {type: 'application/binary'});\n",
              "      const a = document.createElement('a');\n",
              "      a.href = window.URL.createObjectURL(blob);\n",
              "      a.download = filename;\n",
              "      div.appendChild(a);\n",
              "      a.click();\n",
              "      div.remove();\n",
              "    }\n",
              "  "
            ]
          },
          "metadata": {}
        },
        {
          "output_type": "display_data",
          "data": {
            "text/plain": [
              "<IPython.core.display.Javascript object>"
            ],
            "application/javascript": [
              "download(\"download_78bb3a90-f97c-4ab9-92c5-e6ee9aa380b9\", \"final_model.pkl\", 3135)"
            ]
          },
          "metadata": {}
        }
      ]
    }
  ]
}